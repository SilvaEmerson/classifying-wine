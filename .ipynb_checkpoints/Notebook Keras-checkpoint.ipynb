{
 "cells": [
  {
   "cell_type": "code",
   "execution_count": null,
   "metadata": {},
   "outputs": [],
   "source": [
    "import numpy as np \n",
    "from data_proccesing import DataProcessing\n",
    "from keras.models import Sequential\n",
    "from keras.layers import Dense \n",
    "from keras.utils import to_categorical\n",
    "from keras.optimizers import Adam \n",
    "from keras. initializers import TruncatedNormal \n",
    "import matplotlib.pyplot as plt"
   ]
  },
  {
   "cell_type": "code",
   "execution_count": null,
   "metadata": {},
   "outputs": [],
   "source": [
    "dp = DataProcessing()\n",
    "dp.processing('dataset/wine.data.txt', 14)\n",
    "\n",
    "X_train, X_test = np.load('dataset/X_train.npy'), np.load('dataset/X_test.npy')\n",
    "Y_train, Y_test = np.load('dataset/Y_train.npy'), np.load('dataset/Y_test.npy')"
   ]
  },
  {
   "cell_type": "code",
   "execution_count": null,
   "metadata": {},
   "outputs": [],
   "source": [
    "Y_train, Y_test = to_categorical(Y_train), to_categorical(Y_test)"
   ]
  },
  {
   "cell_type": "code",
   "execution_count": null,
   "metadata": {},
   "outputs": [],
   "source": [
    "<h1> Mapa de calor dos atributos</h1>\n",
    "dp.plot_heat_map()"
   ]
  }
 ],
 "metadata": {
  "kernelspec": {
   "display_name": "Python 3",
   "language": "python",
   "name": "python3"
  },
  "language_info": {
   "codemirror_mode": {
    "name": "ipython",
    "version": 3
   },
   "file_extension": ".py",
   "mimetype": "text/x-python",
   "name": "python",
   "nbconvert_exporter": "python",
   "pygments_lexer": "ipython3",
   "version": "3.6.4"
  }
 },
 "nbformat": 4,
 "nbformat_minor": 2
}
